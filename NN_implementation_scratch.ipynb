{
 "cells": [
  {
   "cell_type": "markdown",
   "id": "e0c07f19",
   "metadata": {},
   "source": [
    "# Artificial Neural Networks From Scratch"
   ]
  },
  {
   "cell_type": "markdown",
   "id": "3f5dec35",
   "metadata": {},
   "source": [
    "This is my first ever neural network implementation from scratch. In this notebook, I tried to clone the TensorFlow implementation in order to facilitate the adding of multiple layers and also the setting of the weights of the baises without explicitly chosen the dimension of the inputs"
   ]
  },
  {
   "cell_type": "code",
   "execution_count": 1,
   "id": "92351f1f",
   "metadata": {},
   "outputs": [],
   "source": [
    "import numpy as np"
   ]
  },
  {
   "cell_type": "code",
   "execution_count": 41,
   "id": "bfc089c3",
   "metadata": {},
   "outputs": [],
   "source": [
    "class layer:\n",
    "    \"\"\" \n",
    "        This class implement the concept of a layer. \n",
    "        By convention, the output of a neural network is also considered as a layer but the input no\n",
    "        \"\"\"\n",
    "    def __init__(self\n",
    "                 ,activation: str='sigmoid'\n",
    "                 ,units: int=1) -> None:\n",
    "        \"\"\" \n",
    "            The constructor of this class builds the main caracteristics of a layer:\n",
    "            the activation function, weights,biases and number of units\n",
    "            Inputs:\n",
    "                * activation: denotes the type of the activation function whether it is a sigmoid or linear function\n",
    "                * units: the number of neurons in this layer\n",
    "        \"\"\"\n",
    "        if activation == 'sigmoid':\n",
    "            self.activation_function = lambda x:   1/(1+np.exp(-x))\n",
    "        else:\n",
    "            self.activation_function = lambda x:  x\n",
    "        self.units = units\n",
    "        self.weights = np.ones((self.units,1))\n",
    "        self.biases = np.zeros((self.units,))\n",
    "        \n",
    "    def set_parameters(self,\n",
    "                       weights,\n",
    "                       biases) -> None:\n",
    "        \"\"\"\n",
    "            This function changes the parameters (weights and biases) of the neural networks.\n",
    "        \"\"\"\n",
    "        if weights.shape[0] == self.units:\n",
    "            self.weights = weights\n",
    "        else:\n",
    "            print(\"Error: the shape of the weights is not valid\")\n",
    "        if biases.shape == (self.units,):\n",
    "            self.biases = biases\n",
    "        else:\n",
    "            print(\"Error: the shape of the biases is not valid\")\n",
    "        \n",
    "    def output(self,\n",
    "               input_):\n",
    "        \"\"\"\n",
    "            This function calculates the output of the layer.\n",
    "            In:\n",
    "                *input_: the input of the layer\n",
    "            Out:\n",
    "                the output of the layer\n",
    "        \"\"\"\n",
    "        n = input_.shape[0]\n",
    "        if self.weights.shape[1] != n:\n",
    "            self.weights = np.ones((self.units,n))\n",
    "        output = np.zeros((self.units,))\n",
    "        for i in range(self.units):\n",
    "            output[i] = self.activation_function(np.dot(self.weights[i,:],input_)+self.biases[i])\n",
    "        return output"
   ]
  },
  {
   "cell_type": "code",
   "execution_count": 46,
   "id": "5259abc8",
   "metadata": {},
   "outputs": [],
   "source": [
    "class Sequential:\n",
    "    \"\"\"\n",
    "        This class allows multiple layers to interact with each other in order to form a NN.\n",
    "    \"\"\"\n",
    "    def __init__(self,\n",
    "                 layers) -> None:\n",
    "        \"\"\"\n",
    "            The constructor order layers in order that the input of one is the output of another.\n",
    "            In:\n",
    "                * layers: a list of layers implemented by the class layer\n",
    "        \"\"\"\n",
    "        self.layers = layers\n",
    "    def predict(self,\n",
    "                input_):\n",
    "        \"\"\"\n",
    "            This function calculates the output of the whole NN given an input\n",
    "            In:\n",
    "                * input_: is a 1-D numpy array of values representing the values of a single row in the dataset.\n",
    "            Out:\n",
    "                the output of the neural network also know as the prediction\n",
    "        \"\"\"\n",
    "        prediction = input_\n",
    "        for layer in self.layers:\n",
    "            prediction = layer.output(prediction)\n",
    "        return prediction"
   ]
  }
 ],
 "metadata": {
  "kernelspec": {
   "display_name": "Python 3 (ipykernel)",
   "language": "python",
   "name": "python3"
  },
  "language_info": {
   "codemirror_mode": {
    "name": "ipython",
    "version": 3
   },
   "file_extension": ".py",
   "mimetype": "text/x-python",
   "name": "python",
   "nbconvert_exporter": "python",
   "pygments_lexer": "ipython3",
   "version": "3.9.12"
  }
 },
 "nbformat": 4,
 "nbformat_minor": 5
}
